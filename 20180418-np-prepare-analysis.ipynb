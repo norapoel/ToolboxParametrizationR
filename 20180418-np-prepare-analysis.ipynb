{
 "cells": [
  {
   "cell_type": "markdown",
   "metadata": {
    "collapsed": true
   },
   "source": [
    "# Preparation of the two-step analysis\n",
    "\n",
    "Author:<br>\n",
    "Nora Poel (1,2)<br>\n",
    "(1) CNRS/UGA/IRD/G-INP, IGE, Grenoble, France<br>\n",
    "(2) University of Potsdam, Institute for Computer Science, Potsdam, Germany\n",
    "\n",
    "This notebook serves to prepare the input data for the two-step analysis."
   ]
  },
  {
   "cell_type": "code",
   "execution_count": 1,
   "metadata": {
    "collapsed": true
   },
   "outputs": [],
   "source": [
    "import numpy as np\n",
    "import numpy.ma as ma\n",
    "import numpy.linalg as linalg\n",
    "import matplotlib.pyplot as plt\n",
    "import xarray as xr\n",
    "import re\n",
    "from netCDF4 import Dataset\n",
    "import os\n",
    "\n",
    "import SWOTaugmentation as swota\n",
    "import SWOTdenoise as swotd\n",
    "import SWOTremovedoublenadir as swotn\n",
    "\n",
    "%matplotlib inline"
   ]
  },
  {
   "cell_type": "markdown",
   "metadata": {
    "collapsed": true
   },
   "source": [
    "## 1. Process observation-ensemble"
   ]
  },
  {
   "cell_type": "markdown",
   "metadata": {},
   "source": [
    "### 1.1 Remove double nadir in OBS0060\n",
    "The SWOT simulator produces two nadir tracks in the middle of the track if passes are generated without the 20 km gap between the two swaths. They are identical and we need to remove one.\n",
    "\n",
    "**Note**: ensemble need to be named as followed: <name><nnnn>.nc.bas. The module will extract the size of the ensemble from <nnnn>."
   ]
  },
  {
   "cell_type": "code",
   "execution_count": 3,
   "metadata": {},
   "outputs": [
    {
     "name": "stdout",
     "output_type": "stream",
     "text": [
      "Ensemble without double nadir in  /home/poeln/Work/obs_pass182/rmdc_OBS0060.nc.bas\n"
     ]
    }
   ],
   "source": [
    "datapath = '/home/poeln/Work/obs_pass182'\n",
    "inputensname = '/OBS0060.nc.bas'\n",
    "ensname = datapath + inputensname\n",
    "\n",
    "swotn.SWOTremovedoublenadir(ensname)\n",
    "# results in: rmdc_OBS0060.nc.bas"
   ]
  },
  {
   "cell_type": "markdown",
   "metadata": {},
   "source": [
    "### 1.2 Denoise OBS0060\n",
    "This step is necessary to estimate the best parameters for $\\mathrm{R}^+$ and therefore to generate $\\mathrm{R}^+$ for the analysis. For explanation the [20180418-np-parametrization-R.ipynb](20180418-np-parametrization-R.ipynb).<br>\n",
    "\n",
    "**Note**: To denoise an ensemble, the name of the ensemble cannot include a '.nc' (e.g. not 'path/ENS0060.nc.bas /vctgridSWOT0001.nc'). This is because function write_data in SWOTdenoise.py splits the name of the input file at the first .nc to create the name of the output file. Consequently, all denoised members of the ensemble get the same name and will be overwritten (f.e. path/ENS0060_denoised.nc instead of path/ENS0060.nc.bas/ vctgridSWOT0001.nc)."
   ]
  },
  {
   "cell_type": "code",
   "execution_count": null,
   "metadata": {
    "collapsed": true
   },
   "outputs": [],
   "source": [
    "# rename rmdc_OBS0060.nc.bas to rmdc_OBS0060\n",
    "\n",
    "datapath = '/home/poeln/Work/obs_pass182'\n",
    "inputensname = '/rmdc_OBS0060'\n",
    "ensname = datapath + inputensname\n",
    "\n",
    "for k in range(1,61):\n",
    "    membername = (ensname+'/vctgridSWOT{:04d}.nc').format(k)\n",
    "    swotd.SWOTdenoise(membername, method='gaussian', param=8)\n",
    "    \n",
    "# moved denoised files in directory rmdc_denoised_OBS0060.nc.bas "
   ]
  },
  {
   "cell_type": "markdown",
   "metadata": {},
   "source": [
    "### 1.3 Extend OBS0060\n",
    "In this step we calculate first and second derivations along and across track for each member of the observation-ensemble (`OBS0060`) (calculation on `ssh_model`). For each derivation for each member a single netcdf file is created. "
   ]
  },
  {
   "cell_type": "code",
   "execution_count": null,
   "metadata": {
    "collapsed": true
   },
   "outputs": [],
   "source": [
    "datapath = '/home/poeln/Work/obs_pass182'\n",
    "inputensname = '/rmdc_OBS0060.nc.bas'\n",
    "ensname = datapath + inputensname\n",
    "\n",
    "swota.SWOTaugmentation(ensname, ens=True)"
   ]
  },
  {
   "cell_type": "markdown",
   "metadata": {},
   "source": [
    "## 2. Process an observation\n",
    "The processing of the observation depends on the way it was created: for an observation without gap follow 2.1 and 2.2; for an observation with gap follow 2.3.\n",
    "### 2.1 Remove double nadir in observation\n",
    "The SWOT simulator produces two nadir tracks in the middle of the track if passes are generated without 20 km gap between the two swaths. They are identical and we need to remove one.<br>\n",
    "**Note**: The module SWOTremovedoublenadir was originally thought to be used only for ensembles as future SWOT data will have the 20 km gap between its two swaths and therefore do not need to be proceeded with the module. To remove a double nadir from a single observation we have to create an temporary ensemble (here: `obs_p182_SWOT0001.nc.bas`) consisting one member (the observation) named as followed: `vctgridSWOT0001.nc`. The result will be in `rmdc_<ensemblename>` (here: `rmdc_obs_p182_SWOT0001.nc.bas`)."
   ]
  },
  {
   "cell_type": "code",
   "execution_count": 3,
   "metadata": {},
   "outputs": [
    {
     "name": "stdout",
     "output_type": "stream",
     "text": [
      "Ensemble without double nadir in  /home/poeln/Work/obs_pass182/rmdc_obs_p182_SWOT0001.nc.bas\n"
     ]
    }
   ],
   "source": [
    "datapath = '/home/poeln/Work/obs_pass182'\n",
    "inputensname = '/obs_p182_SWOT0001.nc.bas'\n",
    "ensname = datapath + inputensname\n",
    "\n",
    "swotn.SWOTremovedoublenadir(ensname)\n",
    "# result in: rmdc_obs_p182_SWOT0001.nc.bas"
   ]
  },
  {
   "cell_type": "markdown",
   "metadata": {},
   "source": [
    "### 2.2 Denoise an observation\n",
    "We denoise the observation from 2.1. The input path for the denoising method cannot include a '.nc'. This is because function write_data in SWOTdenoise.py splits the name of the input file at the first .nc to create the name of the output file. We therefore need to rename the directory.<br>\n",
    "Here, the folder is named `rmdc_obs_nogap` and, for clarity, the observation is renamed as `rmdc_obs_p182_SWOT0004.nc`."
   ]
  },
  {
   "cell_type": "code",
   "execution_count": 4,
   "metadata": {},
   "outputs": [
    {
     "name": "stdout",
     "output_type": "stream",
     "text": [
      "Filtered field in  /home/poeln/Work/obs_pass182/rmdc_obs_nogap/rmdc_obs_p182_SWOT0004_denoised.nc\n"
     ]
    }
   ],
   "source": [
    "datapath = '/home/poeln/Work/obs_pass182/rmdc_obs_nogap'\n",
    "obsname = '/rmdc_obs_p182_SWOT0004.nc'\n",
    "observation = datapath + obsname\n",
    "swotd.SWOTdenoise(observation,method='gaussian',param=8)\n",
    "\n",
    "# result in: rmdc_obs_nogap/rmdc_obs_p182_SWOT0004_denoised.nc"
   ]
  },
  {
   "cell_type": "markdown",
   "metadata": {},
   "source": [
    "### 2.3 Denoise and inpaint an observation\n",
    "An observation with 20 km gap can be denoised and inpainted as followed:"
   ]
  },
  {
   "cell_type": "code",
   "execution_count": null,
   "metadata": {
    "collapsed": true
   },
   "outputs": [],
   "source": [
    "# denoise and inpaint an observation\n",
    "datapath = '/home/poeln/Work/obs_pass182'\n",
    "obsname = '/obs_p182_SWOT0004.nc'\n",
    "observation = datapath + obsname\n",
    "swotd.SWOTdenoise(observation,inpainting=True,method='gaussian',param=8)"
   ]
  },
  {
   "cell_type": "markdown",
   "metadata": {
    "collapsed": true
   },
   "source": [
    "### 2.4 Augment an observation\n",
    "In this step we calculate first and second derivations along and across track for an observation. For each derivation  a single netcdf file is created. "
   ]
  },
  {
   "cell_type": "code",
   "execution_count": 7,
   "metadata": {},
   "outputs": [
    {
     "name": "stdout",
     "output_type": "stream",
     "text": [
      "Extended observation in  /home/poeln/Work/obs_pass182/rmdc_obs_nogap/\n"
     ]
    }
   ],
   "source": [
    "datapath = '/home/poeln/Work/obs_pass182/rmdc_obs_nogap'\n",
    "inputensname = '/rmdc_obs_p182_SWOT0004_denoised.nc'\n",
    "obsname = datapath + inputensname\n",
    "\n",
    "swota.SWOTaugmentation(obsname, obs=True)\n",
    "\n",
    "# result:\n",
    "# rmdc_obs_p182_SWOT0004_denoised_D1a.nc\n",
    "# rmdc_obs_p182_SWOT0004_denoised_D1c.nc\n",
    "# rmdc_obs_p182_SWOT0004_denoised_D2a.nc\n",
    "# rmdc_obs_p182_SWOT0004_denoised_D2c.nc\n",
    "# rmdc_obs_p182_SWOT0004_denoised_SWOT.nc"
   ]
  }
 ],
 "metadata": {
  "kernelspec": {
   "display_name": "Python 2",
   "language": "python",
   "name": "python2"
  },
  "language_info": {
   "codemirror_mode": {
    "name": "ipython",
    "version": 2
   },
   "file_extension": ".py",
   "mimetype": "text/x-python",
   "name": "python",
   "nbconvert_exporter": "python",
   "pygments_lexer": "ipython2",
   "version": "2.7.14"
  }
 },
 "nbformat": 4,
 "nbformat_minor": 2
}
